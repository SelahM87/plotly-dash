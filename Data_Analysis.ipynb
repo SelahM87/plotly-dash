{
 "cells": [
  {
   "cell_type": "code",
   "execution_count": 1,
   "metadata": {},
   "outputs": [],
   "source": [
    "#import dependencies\n",
    "import pandas as pd \n",
    "import seaborn as sns \n",
    "import numpy as np\n",
    "import plotly.express as px\n",
    "import re\n"
   ]
  },
  {
   "cell_type": "code",
   "execution_count": 3,
   "metadata": {},
   "outputs": [],
   "source": [
    "#read in clean dataset \n",
    "skincare_df= pd.read_csv(\"data.csv\")"
   ]
  },
  {
   "cell_type": "code",
   "execution_count": 4,
   "metadata": {},
   "outputs": [
    {
     "name": "stdout",
     "output_type": "stream",
     "text": [
      "<class 'pandas.core.frame.DataFrame'>\n",
      "RangeIndex: 2111 entries, 0 to 2110\n",
      "Data columns (total 22 columns):\n",
      " #   Column                   Non-Null Count  Dtype  \n",
      "---  ------                   --------------  -----  \n",
      " 0   brand                    2111 non-null   object \n",
      " 1   product                  2111 non-null   object \n",
      " 2   loves_count              2111 non-null   int64  \n",
      " 3   rating                   2111 non-null   float64\n",
      " 4   reviews                  2070 non-null   float64\n",
      " 5   online_only              2111 non-null   bool   \n",
      " 6   sephora_exclusive        2111 non-null   bool   \n",
      " 7   primary_category         2111 non-null   object \n",
      " 8   secondary_category       2111 non-null   object \n",
      " 9   price_usd                2111 non-null   float64\n",
      " 10  size_ml                  1757 non-null   float64\n",
      " 11  affordability            2111 non-null   object \n",
      " 12  Loss of firmness         2111 non-null   bool   \n",
      " 13  Dullness/Uneven Texture  2111 non-null   bool   \n",
      " 14  Acne/Blemishes           2111 non-null   bool   \n",
      " 15  Dark spots               2111 non-null   bool   \n",
      " 16  Pores                    2111 non-null   bool   \n",
      " 17  Dryness                  2111 non-null   bool   \n",
      " 18  Redness                  2111 non-null   bool   \n",
      " 19  Damage                   2111 non-null   bool   \n",
      " 20  Dark Circles             2111 non-null   bool   \n",
      " 21  Anti-Aging               2111 non-null   bool   \n",
      "dtypes: bool(12), float64(4), int64(1), object(5)\n",
      "memory usage: 189.8+ KB\n"
     ]
    }
   ],
   "source": [
    "skincare_df.info()"
   ]
  },
  {
   "cell_type": "markdown",
   "metadata": {},
   "source": [
    "Discrete quantitive \n",
    "loves_count: This variable is a count of the number of loves (likes) received by each product. The maximum value seems unusually high compared to the other quartiles, suggesting potential outliers.\n",
    "\n",
    "\n",
    "Continuous Quantitive \n",
    "\n",
    "rating: The rating variable represents the rating of each product, ranging from 0 to 5. And its an interval and shouldnt have outliers. \n",
    "\n",
    "price_usd: This variable represents the price of each product in USD. The max of 19000 is really high compare to other quartile indicating there is probably and outlier \n",
    "\n",
    "size_ml: The size_ml variable denotes the size of each product in milliliters. It has Na value becuase not all item can be measure in mL \n"
   ]
  },
  {
   "cell_type": "code",
   "execution_count": 5,
   "metadata": {},
   "outputs": [
    {
     "data": {
      "text/html": [
       "<div>\n",
       "<style scoped>\n",
       "    .dataframe tbody tr th:only-of-type {\n",
       "        vertical-align: middle;\n",
       "    }\n",
       "\n",
       "    .dataframe tbody tr th {\n",
       "        vertical-align: top;\n",
       "    }\n",
       "\n",
       "    .dataframe thead th {\n",
       "        text-align: right;\n",
       "    }\n",
       "</style>\n",
       "<table border=\"1\" class=\"dataframe\">\n",
       "  <thead>\n",
       "    <tr style=\"text-align: right;\">\n",
       "      <th></th>\n",
       "      <th>loves_count</th>\n",
       "      <th>rating</th>\n",
       "      <th>reviews</th>\n",
       "      <th>price_usd</th>\n",
       "      <th>size_ml</th>\n",
       "    </tr>\n",
       "  </thead>\n",
       "  <tbody>\n",
       "    <tr>\n",
       "      <th>count</th>\n",
       "      <td>2.111000e+03</td>\n",
       "      <td>2111.000000</td>\n",
       "      <td>2070.000000</td>\n",
       "      <td>2111.000000</td>\n",
       "      <td>1757.000000</td>\n",
       "    </tr>\n",
       "    <tr>\n",
       "      <th>mean</th>\n",
       "      <td>2.890864e+04</td>\n",
       "      <td>4.161487</td>\n",
       "      <td>479.807729</td>\n",
       "      <td>61.548110</td>\n",
       "      <td>65.157086</td>\n",
       "    </tr>\n",
       "    <tr>\n",
       "      <th>std</th>\n",
       "      <td>5.976121e+04</td>\n",
       "      <td>0.738071</td>\n",
       "      <td>895.167810</td>\n",
       "      <td>71.676944</td>\n",
       "      <td>57.391606</td>\n",
       "    </tr>\n",
       "    <tr>\n",
       "      <th>min</th>\n",
       "      <td>0.000000e+00</td>\n",
       "      <td>0.000000</td>\n",
       "      <td>1.000000</td>\n",
       "      <td>3.000000</td>\n",
       "      <td>0.000000</td>\n",
       "    </tr>\n",
       "    <tr>\n",
       "      <th>25%</th>\n",
       "      <td>4.285000e+03</td>\n",
       "      <td>4.000000</td>\n",
       "      <td>47.000000</td>\n",
       "      <td>29.000000</td>\n",
       "      <td>30.000000</td>\n",
       "    </tr>\n",
       "    <tr>\n",
       "      <th>50%</th>\n",
       "      <td>1.056800e+04</td>\n",
       "      <td>4.300000</td>\n",
       "      <td>184.500000</td>\n",
       "      <td>45.000000</td>\n",
       "      <td>50.000000</td>\n",
       "    </tr>\n",
       "    <tr>\n",
       "      <th>75%</th>\n",
       "      <td>2.847000e+04</td>\n",
       "      <td>4.500000</td>\n",
       "      <td>506.000000</td>\n",
       "      <td>70.000000</td>\n",
       "      <td>90.000000</td>\n",
       "    </tr>\n",
       "    <tr>\n",
       "      <th>max</th>\n",
       "      <td>1.081315e+06</td>\n",
       "      <td>5.000000</td>\n",
       "      <td>16118.000000</td>\n",
       "      <td>1900.000000</td>\n",
       "      <td>487.000000</td>\n",
       "    </tr>\n",
       "  </tbody>\n",
       "</table>\n",
       "</div>"
      ],
      "text/plain": [
       "        loves_count       rating       reviews    price_usd      size_ml\n",
       "count  2.111000e+03  2111.000000   2070.000000  2111.000000  1757.000000\n",
       "mean   2.890864e+04     4.161487    479.807729    61.548110    65.157086\n",
       "std    5.976121e+04     0.738071    895.167810    71.676944    57.391606\n",
       "min    0.000000e+00     0.000000      1.000000     3.000000     0.000000\n",
       "25%    4.285000e+03     4.000000     47.000000    29.000000    30.000000\n",
       "50%    1.056800e+04     4.300000    184.500000    45.000000    50.000000\n",
       "75%    2.847000e+04     4.500000    506.000000    70.000000    90.000000\n",
       "max    1.081315e+06     5.000000  16118.000000  1900.000000   487.000000"
      ]
     },
     "execution_count": 5,
     "metadata": {},
     "output_type": "execute_result"
    }
   ],
   "source": [
    "skincare_df.describe()"
   ]
  },
  {
   "cell_type": "code",
   "execution_count": 7,
   "metadata": {},
   "outputs": [
    {
     "name": "stdout",
     "output_type": "stream",
     "text": [
      "2111\n"
     ]
    }
   ],
   "source": [
    "num_observations = skincare_df.shape[0]\n",
    "print(num_observations)"
   ]
  },
  {
   "cell_type": "markdown",
   "metadata": {},
   "source": [
    "To look for null values use skincare_df.isnull( ).sum( ). In the dataset size_ml has 354 because not all products are liquid there are Tools and mask in the dataset. \n",
    "Reviews and ratings have null because when scraped in March of 2023 there was now reviews for thos specific items. "
   ]
  },
  {
   "cell_type": "code",
   "execution_count": 9,
   "metadata": {},
   "outputs": [
    {
     "data": {
      "text/plain": [
       "brand                        0\n",
       "product                      0\n",
       "loves_count                  0\n",
       "rating                       0\n",
       "reviews                     41\n",
       "online_only                  0\n",
       "sephora_exclusive            0\n",
       "primary_category             0\n",
       "secondary_category           0\n",
       "price_usd                    0\n",
       "size_ml                    354\n",
       "affordability                0\n",
       "Loss of firmness             0\n",
       "Dullness/Uneven Texture      0\n",
       "Acne/Blemishes               0\n",
       "Dark spots                   0\n",
       "Pores                        0\n",
       "Dryness                      0\n",
       "Redness                      0\n",
       "Damage                       0\n",
       "Dark Circles                 0\n",
       "Anti-Aging                   0\n",
       "dtype: int64"
      ]
     },
     "execution_count": 9,
     "metadata": {},
     "output_type": "execute_result"
    }
   ],
   "source": [
    "skincare_df.isnull( ).sum( )\n"
   ]
  },
  {
   "cell_type": "markdown",
   "metadata": {},
   "source": [
    "Primary and Secondary category are both Nominal categorical data consisting of 10 and 35 categories which decribe the type of product in a broad and thorough categories. If there was Nan for secondary I tranfered what was in the primary category. Affordability has a ordinal categorical because it has a ranking system of low-cost fair to luxury "
   ]
  },
  {
   "cell_type": "code",
   "execution_count": 11,
   "metadata": {},
   "outputs": [
    {
     "name": "stdout",
     "output_type": "stream",
     "text": [
      "10\n",
      "35\n",
      "3\n"
     ]
    }
   ],
   "source": [
    "print(skincare_df['primary_category'].nunique())\n",
    "\n",
    "print(skincare_df['secondary_category'].nunique())\n",
    "\n",
    "print(skincare_df['affordability'].nunique())\n",
    "\n"
   ]
  },
  {
   "cell_type": "markdown",
   "metadata": {},
   "source": [
    "UI Components: Dropdown list to pick primary categories maybe in a search navigation bar, slider component to pick price range of products and there ratings, Radio butions to pick online only products or sephora exclusive product yes or no."
   ]
  },
  {
   "cell_type": "markdown",
   "metadata": {},
   "source": [
    "\n",
    "A grouped bar chart comparing the average ratings of products in each category based on affordability labels (e.g., low-cost, fair, luxury). This helps users make informed decisions by identifying affordable products with high ratings within each category.\n",
    "\n",
    "A scatter plot showing the relationship between the number of products and the total number of reviews for each brand.\n",
    "\n",
    "Brand Loyalty Pie Chart:\n",
    "The pie chart illustrates the distribution of loves_count among different brands.\n",
    "Users can see the proportion of loves received by each brand relative to the total, helping them identify popular brands.\n",
    "It provides insights into brand loyalty and customer preferences.\n",
    "\n"
   ]
  },
  {
   "cell_type": "markdown",
   "metadata": {},
   "source": [
    "# Data Dictionary\n",
    "\n",
    "## brand\n",
    "- **Category:** Text\n",
    "- **Description:** The brand name of the skincare or makeup product.\n",
    "- **Examples:** \"Youth To The People\", \"Algenist\"\n",
    "\n",
    "## product\n",
    "- **Category:** Text\n",
    "- **Description:** The name of the skincare or makeup product.\n",
    "- **Examples:** \"Superfood Hydrate + Firm Peptide Eye Cream\", \"GENIUS Liquid Collagen Serum\"\n",
    "\n",
    "## loves_count\n",
    "- **Category:** Numeric\n",
    "- **Description:** The number of \"loves\" or likes the product has received on the Sephora website.\n",
    "- **Examples:** 38812, 41445\n",
    "\n",
    "## rating\n",
    "- **Category:** Numeric\n",
    "- **Description:** The average rating of the product based on user reviews.\n",
    "- **Examples:** 3.7, 4.6\n",
    "\n",
    "## reviews\n",
    "- **Category:** Numeric\n",
    "- **Description:** The total number of reviews the product has received.\n",
    "- **Examples:** 326.0, 315.0\n",
    "\n",
    "## online_only\n",
    "- **Category:** Boolean\n",
    "- **Description:** Indicates whether the product is available exclusively online.\n",
    "- **Examples:** True, False\n",
    "\n",
    "## sephora_exclusive\n",
    "- **Category:** Boolean\n",
    "- **Description:** Indicates whether the product is exclusive to Sephora.\n",
    "- **Examples:** True, False\n",
    "\n",
    "## primary_category\n",
    "- **Category:** Text\n",
    "- **Description:** The primary category of the product.\n",
    "- **Examples:** \"Moisturizers\", \"Treatments\"\n",
    "\n",
    "## secondary_category\n",
    "- **Category:** Text\n",
    "- **Description:** The secondary category of the product.\n",
    "- **Examples:** \"Eye Creams & Treatments\", \"Face Serums\"\n",
    "\n",
    "## price_usd\n",
    "- **Category:** Numeric\n",
    "- **Description:** The price of the product in USD.\n",
    "- **Examples:** 38.0, 69.0\n",
    "\n",
    "## size_ml\n",
    "- **Category:** Numeric\n",
    "- **Description:** The size of the product in milliliters (ml).\n",
    "- **Examples:** 15.0, 30.0\n",
    "\n",
    "## affordability\n",
    "- **Category:** Text\n",
    "- **Description:** Indicates the affordability category of the product. >15 is low-cost, 15<35 is fair, and 35-2000 is luxury.\n",
    "- **Examples:** \"low-cost\", \"fair\", \"luxury\"\n",
    "\n",
    "## Loss of firmness to Anti-Aging\n",
    "- **Category:** Boolean\n",
    "- **Description:** Indicates whether the product is suitable for specific skincare concerns or benefits.\n",
    "- **Examples:** True, False\n"
   ]
  },
  {
   "cell_type": "code",
   "execution_count": null,
   "metadata": {},
   "outputs": [],
   "source": []
  }
 ],
 "metadata": {
  "kernelspec": {
   "display_name": "ds4003",
   "language": "python",
   "name": "python3"
  },
  "language_info": {
   "codemirror_mode": {
    "name": "ipython",
    "version": 3
   },
   "file_extension": ".py",
   "mimetype": "text/x-python",
   "name": "python",
   "nbconvert_exporter": "python",
   "pygments_lexer": "ipython3",
   "version": "3.8.18"
  }
 },
 "nbformat": 4,
 "nbformat_minor": 2
}
